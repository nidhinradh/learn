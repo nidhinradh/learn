{
  "nbformat": 4,
  "nbformat_minor": 0,
  "metadata": {
    "colab": {
      "name": "Blockchain.ipynb",
      "version": "0.3.2",
      "provenance": [],
      "collapsed_sections": [],
      "include_colab_link": true
    },
    "kernelspec": {
      "name": "python3",
      "display_name": "Python 3"
    }
  },
  "cells": [
    {
      "cell_type": "markdown",
      "metadata": {
        "id": "view-in-github",
        "colab_type": "text"
      },
      "source": [
        "<a href=\"https://colab.research.google.com/github/nidhinradh/learn/blob/master/Blockchain.ipynb\" target=\"_parent\"><img src=\"https://colab.research.google.com/assets/colab-badge.svg\" alt=\"Open In Colab\"/></a>"
      ]
    },
    {
      "metadata": {
        "id": "GQtJpCcCHD_P",
        "colab_type": "code",
        "colab": {
          "base_uri": "https://localhost:8080/",
          "height": 232
        },
        "outputId": "becc4a18-f195-43f8-8fc6-c51cbf56e17d"
      },
      "cell_type": "code",
      "source": [
        "import datetime\n",
        "import hashlib\n",
        "\n",
        "class Block:\n",
        "  blockNo = 0\n",
        "  data = None\n",
        "  next = None\n",
        "  hash = None\n",
        "  nonce = 0\n",
        "  previousHash = 0x0\n",
        "  timestamp = datetime.datetime.now()\n",
        "  \n",
        "  def __init__(self, data):\n",
        "    self.data = data\n",
        "  \n",
        "  def hash(self):\n",
        "    hashValue = hashlib.sha256()\n",
        "    hash.update(\n",
        "    str(self.nonce).encode('utf-8') +\n",
        "        str(self.data).encode('utf-8')+\n",
        "        str(self.previous_hash).encode('utf-8')+\n",
        "        str(self.timestamp).encode('utf-8')+\n",
        "        str(self.blockNo).encode('utf-8')\n",
        "    )\n",
        "    return hashValue.hexdigest()\n",
        "  \n",
        "  def __str__(self):\n",
        "    return \"\\nBlock hash: \"+ str(self.hash()+\n",
        "                              \"\\nBlock no: \"+ str(self.blockNo)+\n",
        "                              \"\\nBlock data: \"+ str(self.data)+\n",
        "                                \"\\nHashes: \"+str(self.nonce))\n",
        "  \n",
        "class Blockchain:\n",
        "  \n",
        "  maxNonce = 2**32\n",
        "  diff = 10\n",
        "  target = 2** (256-diff)\n",
        "  \n",
        "  \n",
        "  block = Block(\"Genesis\")\n",
        "  head = block\n",
        "  \n",
        "  def add(self, block):\n",
        "    block.previous_hash = self.block.hash()\n",
        "    blobk.blockNo = self.block.blockNo + 1\n",
        "    \n",
        "    self.block.next = block\n",
        "    self.block = self.block.next\n",
        "    \n",
        "  def mine(self, block):\n",
        "    for n in range(self.maxNonce):\n",
        "      if int(block.hash(), 16) <= self.target:\n",
        "        self.add(block)\n",
        "        print(block)\n",
        "        break;\n",
        "      else:\n",
        "        block.nonce += 1\n",
        "\n",
        "blockchain = Blockchain()\n",
        "\n",
        "for n in range(10):\n",
        "  blockchain.main(Block(\"Block \"+ str(n+1)))\n",
        "\n",
        "while blockchain.head!= None:\n",
        "  print(blockchain.head)\n",
        "  blockchain.head = blockchain.head.next\n",
        "        \n",
        "        \n",
        "        \n",
        "        \n",
        "    \n"
      ],
      "execution_count": 7,
      "outputs": [
        {
          "output_type": "error",
          "ename": "AttributeError",
          "evalue": "ignored",
          "traceback": [
            "\u001b[0;31m---------------------------------------------------------------------------\u001b[0m",
            "\u001b[0;31mAttributeError\u001b[0m                            Traceback (most recent call last)",
            "\u001b[0;32m<ipython-input-7-d16a459a44ec>\u001b[0m in \u001b[0;36m<module>\u001b[0;34m()\u001b[0m\n\u001b[1;32m     60\u001b[0m \u001b[0;34m\u001b[0m\u001b[0m\n\u001b[1;32m     61\u001b[0m \u001b[0;32mfor\u001b[0m \u001b[0mn\u001b[0m \u001b[0;32min\u001b[0m \u001b[0mrange\u001b[0m\u001b[0;34m(\u001b[0m\u001b[0;36m10\u001b[0m\u001b[0;34m)\u001b[0m\u001b[0;34m:\u001b[0m\u001b[0;34m\u001b[0m\u001b[0m\n\u001b[0;32m---> 62\u001b[0;31m   \u001b[0mblockchain\u001b[0m\u001b[0;34m.\u001b[0m\u001b[0mmain\u001b[0m\u001b[0;34m(\u001b[0m\u001b[0mBlock\u001b[0m\u001b[0;34m(\u001b[0m\u001b[0;34m\"Block \"\u001b[0m\u001b[0;34m+\u001b[0m \u001b[0mstr\u001b[0m\u001b[0;34m(\u001b[0m\u001b[0mn\u001b[0m\u001b[0;34m+\u001b[0m\u001b[0;36m1\u001b[0m\u001b[0;34m)\u001b[0m\u001b[0;34m)\u001b[0m\u001b[0;34m)\u001b[0m\u001b[0;34m\u001b[0m\u001b[0m\n\u001b[0m\u001b[1;32m     63\u001b[0m \u001b[0;34m\u001b[0m\u001b[0m\n\u001b[1;32m     64\u001b[0m \u001b[0;32mwhile\u001b[0m \u001b[0mblockchain\u001b[0m\u001b[0;34m.\u001b[0m\u001b[0mhead\u001b[0m\u001b[0;34m!=\u001b[0m \u001b[0;32mNone\u001b[0m\u001b[0;34m:\u001b[0m\u001b[0;34m\u001b[0m\u001b[0m\n",
            "\u001b[0;31mAttributeError\u001b[0m: 'Blockchain' object has no attribute 'main'"
          ]
        }
      ]
    },
    {
      "metadata": {
        "id": "n6K15iTALeRc",
        "colab_type": "code",
        "colab": {}
      },
      "cell_type": "code",
      "source": [
        ""
      ],
      "execution_count": 0,
      "outputs": []
    }
  ]
}